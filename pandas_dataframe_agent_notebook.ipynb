{
  "cells": [
    {
      "cell_type": "markdown",
      "metadata": {
        "id": "view-in-github",
        "colab_type": "text"
      },
      "source": [
        "<a href=\"https://colab.research.google.com/github/umrsid/Auto-DataAnalysis/blob/main/pandas_dataframe_agent_notebook.ipynb\" target=\"_parent\"><img src=\"https://colab.research.google.com/assets/colab-badge.svg\" alt=\"Open In Colab\"/></a>"
      ]
    },
    {
      "cell_type": "markdown",
      "metadata": {
        "id": "arlX8FeMtabc"
      },
      "source": [
        "# Pandas Dataframe Agent Tutorial by Bhavesh🦜\n",
        "[**Link to my YouTube Channel**](https://www.youtube.com/BhaveshBhatt8791?sub_confirmation=1)"
      ]
    },
    {
      "cell_type": "markdown",
      "source": [
        "## Installs"
      ],
      "metadata": {
        "id": "SodUZXmugnZA"
      }
    },
    {
      "cell_type": "code",
      "execution_count": 1,
      "metadata": {
        "id": "T7tOFd1ttabd"
      },
      "outputs": [],
      "source": [
        "%%capture\n",
        "!pip install -q langchain\n",
        "!pip install -q openai"
      ]
    },
    {
      "cell_type": "markdown",
      "source": [
        "## Secrets"
      ],
      "metadata": {
        "id": "hj2WQa9whw7B"
      }
    },
    {
      "cell_type": "code",
      "source": [
        "import os\n",
        "os.environ['OPENAI_API_KEY'] = 'sk-'"
      ],
      "metadata": {
        "id": "3uuYhNQXfdmY"
      },
      "execution_count": 2,
      "outputs": []
    },
    {
      "cell_type": "markdown",
      "source": [
        "# Imports"
      ],
      "metadata": {
        "id": "HXp_awGd7erM"
      }
    },
    {
      "cell_type": "code",
      "source": [
        "import numpy as np\n",
        "import pandas as pd"
      ],
      "metadata": {
        "id": "FYKfVEypMRgc"
      },
      "execution_count": 3,
      "outputs": []
    },
    {
      "cell_type": "code",
      "source": [
        "df = pd.read_csv(\"hourly_wages.csv\")"
      ],
      "metadata": {
        "id": "gecBwa51MRpu"
      },
      "execution_count": 4,
      "outputs": []
    },
    {
      "cell_type": "code",
      "source": [
        "df.head(3)"
      ],
      "metadata": {
        "colab": {
          "base_uri": "https://localhost:8080/",
          "height": 143
        },
        "id": "Lf7XlAlcMXfJ",
        "outputId": "5be2ad9d-2410-4bd6-b9f0-ec3706283b06"
      },
      "execution_count": 5,
      "outputs": [
        {
          "output_type": "execute_result",
          "data": {
            "text/plain": [
              "   wage_per_hour  union  education_yrs  experience_yrs  age  female  marr  \\\n",
              "0           5.10      0              8              21   35       1     1   \n",
              "1           4.95      0              9              42   57       1     1   \n",
              "2           6.67      0             12               1   19       0     0   \n",
              "\n",
              "   south  manufacturing  construction  \n",
              "0      0              1             0  \n",
              "1      0              1             0  \n",
              "2      0              1             0  "
            ],
            "text/html": [
              "\n",
              "  <div id=\"df-3de42326-7118-4334-a997-0fdc21a2f2eb\">\n",
              "    <div class=\"colab-df-container\">\n",
              "      <div>\n",
              "<style scoped>\n",
              "    .dataframe tbody tr th:only-of-type {\n",
              "        vertical-align: middle;\n",
              "    }\n",
              "\n",
              "    .dataframe tbody tr th {\n",
              "        vertical-align: top;\n",
              "    }\n",
              "\n",
              "    .dataframe thead th {\n",
              "        text-align: right;\n",
              "    }\n",
              "</style>\n",
              "<table border=\"1\" class=\"dataframe\">\n",
              "  <thead>\n",
              "    <tr style=\"text-align: right;\">\n",
              "      <th></th>\n",
              "      <th>wage_per_hour</th>\n",
              "      <th>union</th>\n",
              "      <th>education_yrs</th>\n",
              "      <th>experience_yrs</th>\n",
              "      <th>age</th>\n",
              "      <th>female</th>\n",
              "      <th>marr</th>\n",
              "      <th>south</th>\n",
              "      <th>manufacturing</th>\n",
              "      <th>construction</th>\n",
              "    </tr>\n",
              "  </thead>\n",
              "  <tbody>\n",
              "    <tr>\n",
              "      <th>0</th>\n",
              "      <td>5.10</td>\n",
              "      <td>0</td>\n",
              "      <td>8</td>\n",
              "      <td>21</td>\n",
              "      <td>35</td>\n",
              "      <td>1</td>\n",
              "      <td>1</td>\n",
              "      <td>0</td>\n",
              "      <td>1</td>\n",
              "      <td>0</td>\n",
              "    </tr>\n",
              "    <tr>\n",
              "      <th>1</th>\n",
              "      <td>4.95</td>\n",
              "      <td>0</td>\n",
              "      <td>9</td>\n",
              "      <td>42</td>\n",
              "      <td>57</td>\n",
              "      <td>1</td>\n",
              "      <td>1</td>\n",
              "      <td>0</td>\n",
              "      <td>1</td>\n",
              "      <td>0</td>\n",
              "    </tr>\n",
              "    <tr>\n",
              "      <th>2</th>\n",
              "      <td>6.67</td>\n",
              "      <td>0</td>\n",
              "      <td>12</td>\n",
              "      <td>1</td>\n",
              "      <td>19</td>\n",
              "      <td>0</td>\n",
              "      <td>0</td>\n",
              "      <td>0</td>\n",
              "      <td>1</td>\n",
              "      <td>0</td>\n",
              "    </tr>\n",
              "  </tbody>\n",
              "</table>\n",
              "</div>\n",
              "      <button class=\"colab-df-convert\" onclick=\"convertToInteractive('df-3de42326-7118-4334-a997-0fdc21a2f2eb')\"\n",
              "              title=\"Convert this dataframe to an interactive table.\"\n",
              "              style=\"display:none;\">\n",
              "        \n",
              "  <svg xmlns=\"http://www.w3.org/2000/svg\" height=\"24px\"viewBox=\"0 0 24 24\"\n",
              "       width=\"24px\">\n",
              "    <path d=\"M0 0h24v24H0V0z\" fill=\"none\"/>\n",
              "    <path d=\"M18.56 5.44l.94 2.06.94-2.06 2.06-.94-2.06-.94-.94-2.06-.94 2.06-2.06.94zm-11 1L8.5 8.5l.94-2.06 2.06-.94-2.06-.94L8.5 2.5l-.94 2.06-2.06.94zm10 10l.94 2.06.94-2.06 2.06-.94-2.06-.94-.94-2.06-.94 2.06-2.06.94z\"/><path d=\"M17.41 7.96l-1.37-1.37c-.4-.4-.92-.59-1.43-.59-.52 0-1.04.2-1.43.59L10.3 9.45l-7.72 7.72c-.78.78-.78 2.05 0 2.83L4 21.41c.39.39.9.59 1.41.59.51 0 1.02-.2 1.41-.59l7.78-7.78 2.81-2.81c.8-.78.8-2.07 0-2.86zM5.41 20L4 18.59l7.72-7.72 1.47 1.35L5.41 20z\"/>\n",
              "  </svg>\n",
              "      </button>\n",
              "      \n",
              "  <style>\n",
              "    .colab-df-container {\n",
              "      display:flex;\n",
              "      flex-wrap:wrap;\n",
              "      gap: 12px;\n",
              "    }\n",
              "\n",
              "    .colab-df-convert {\n",
              "      background-color: #E8F0FE;\n",
              "      border: none;\n",
              "      border-radius: 50%;\n",
              "      cursor: pointer;\n",
              "      display: none;\n",
              "      fill: #1967D2;\n",
              "      height: 32px;\n",
              "      padding: 0 0 0 0;\n",
              "      width: 32px;\n",
              "    }\n",
              "\n",
              "    .colab-df-convert:hover {\n",
              "      background-color: #E2EBFA;\n",
              "      box-shadow: 0px 1px 2px rgba(60, 64, 67, 0.3), 0px 1px 3px 1px rgba(60, 64, 67, 0.15);\n",
              "      fill: #174EA6;\n",
              "    }\n",
              "\n",
              "    [theme=dark] .colab-df-convert {\n",
              "      background-color: #3B4455;\n",
              "      fill: #D2E3FC;\n",
              "    }\n",
              "\n",
              "    [theme=dark] .colab-df-convert:hover {\n",
              "      background-color: #434B5C;\n",
              "      box-shadow: 0px 1px 3px 1px rgba(0, 0, 0, 0.15);\n",
              "      filter: drop-shadow(0px 1px 2px rgba(0, 0, 0, 0.3));\n",
              "      fill: #FFFFFF;\n",
              "    }\n",
              "  </style>\n",
              "\n",
              "      <script>\n",
              "        const buttonEl =\n",
              "          document.querySelector('#df-3de42326-7118-4334-a997-0fdc21a2f2eb button.colab-df-convert');\n",
              "        buttonEl.style.display =\n",
              "          google.colab.kernel.accessAllowed ? 'block' : 'none';\n",
              "\n",
              "        async function convertToInteractive(key) {\n",
              "          const element = document.querySelector('#df-3de42326-7118-4334-a997-0fdc21a2f2eb');\n",
              "          const dataTable =\n",
              "            await google.colab.kernel.invokeFunction('convertToInteractive',\n",
              "                                                     [key], {});\n",
              "          if (!dataTable) return;\n",
              "\n",
              "          const docLinkHtml = 'Like what you see? Visit the ' +\n",
              "            '<a target=\"_blank\" href=https://colab.research.google.com/notebooks/data_table.ipynb>data table notebook</a>'\n",
              "            + ' to learn more about interactive tables.';\n",
              "          element.innerHTML = '';\n",
              "          dataTable['output_type'] = 'display_data';\n",
              "          await google.colab.output.renderOutput(dataTable, element);\n",
              "          const docLink = document.createElement('div');\n",
              "          docLink.innerHTML = docLinkHtml;\n",
              "          element.appendChild(docLink);\n",
              "        }\n",
              "      </script>\n",
              "    </div>\n",
              "  </div>\n",
              "  "
            ]
          },
          "metadata": {},
          "execution_count": 5
        }
      ]
    },
    {
      "cell_type": "markdown",
      "source": [
        "# Langchain"
      ],
      "metadata": {
        "id": "_UHCAcoH7hKS"
      }
    },
    {
      "cell_type": "code",
      "source": [
        "from langchain.llms import OpenAI\n",
        "from langchain.agents import create_pandas_dataframe_agent"
      ],
      "metadata": {
        "id": "b58Ot9F7MbDx"
      },
      "execution_count": 6,
      "outputs": []
    },
    {
      "cell_type": "code",
      "source": [
        "agent = create_pandas_dataframe_agent(OpenAI(temperature=0), df, verbose=True)"
      ],
      "metadata": {
        "id": "D-EPvnszMhuX"
      },
      "execution_count": 7,
      "outputs": []
    },
    {
      "cell_type": "code",
      "source": [
        "agent.run(\"is there any correclation between wage_per_hour column with other columns, if any so name those columns together inside a small bracket which have a correlation and also mention the correlation in percentage\")"
      ],
      "metadata": {
        "colab": {
          "base_uri": "https://localhost:8080/",
          "height": 894
        },
        "id": "esQmbNw0MhxA",
        "outputId": "d765e261-5759-45fe-deb4-984f6fd07265"
      },
      "execution_count": 10,
      "outputs": [
        {
          "output_type": "stream",
          "name": "stdout",
          "text": [
            "\n",
            "\n",
            "\u001b[1m> Entering new  chain...\u001b[0m\n",
            "\u001b[32;1m\u001b[1;3mThought: I need to find the correlation between the wage_per_hour column and the other columns\n",
            "Action: python_repl_ast\n",
            "Action Input: df.corr()\u001b[0m\n",
            "Observation: \u001b[36;1m\u001b[1;3m                wage_per_hour     union  education_yrs  experience_yrs  \\\n",
            "wage_per_hour        1.000000  0.161766       0.381922        0.087060   \n",
            "union                0.161766  1.000000      -0.023886        0.117926   \n",
            "education_yrs        0.381922 -0.023886       1.000000       -0.352676   \n",
            "experience_yrs       0.087060  0.117926      -0.352676        1.000000   \n",
            "age                  0.176967  0.119466      -0.150019        0.977961   \n",
            "female              -0.205371 -0.157027       0.002031        0.075230   \n",
            "marr                 0.100579  0.093164      -0.035522        0.270900   \n",
            "south               -0.141031 -0.086275      -0.140143       -0.007407   \n",
            "manufacturing        0.053927  0.040185      -0.119605        0.063746   \n",
            "construction         0.008314  0.086748      -0.133006        0.084971   \n",
            "\n",
            "                     age    female      marr     south  manufacturing  \\\n",
            "wage_per_hour   0.176967 -0.205371  0.100579 -0.141031       0.053927   \n",
            "union           0.119466 -0.157027  0.093164 -0.086275       0.040185   \n",
            "education_yrs  -0.150019  0.002031 -0.035522 -0.140143      -0.119605   \n",
            "experience_yrs  0.977961  0.075230  0.270900 -0.007407       0.063746   \n",
            "age             1.000000  0.079179  0.278947 -0.038665       0.040926   \n",
            "female          0.079179  1.000000  0.011225 -0.021264      -0.062097   \n",
            "marr            0.278947  0.011225  1.000000  0.006523       0.031559   \n",
            "south          -0.038665 -0.021264  0.006523  1.000000      -0.062747   \n",
            "manufacturing   0.040926 -0.062097  0.031559 -0.062747       1.000000   \n",
            "construction    0.060178 -0.163457  0.043169  0.059407      -0.103489   \n",
            "\n",
            "                construction  \n",
            "wage_per_hour       0.008314  \n",
            "union               0.086748  \n",
            "education_yrs      -0.133006  \n",
            "experience_yrs      0.084971  \n",
            "age                 0.060178  \n",
            "female             -0.163457  \n",
            "marr                0.043169  \n",
            "south               0.059407  \n",
            "manufacturing      -0.103489  \n",
            "construction        1.000000  \u001b[0m\n",
            "Thought:\u001b[32;1m\u001b[1;3m I now know the correlation between the wage_per_hour column and the other columns\n",
            "Final Answer: The wage_per_hour column has a correlation with the union (16.18%), education_yrs (38.19%), experience_yrs (8.71%), age (17.70%), female (-20.54%), marr (10.06%), south (-14.10%), manufacturing (5.39%), and construction (0.83%) columns.\u001b[0m\n",
            "\n",
            "\u001b[1m> Finished chain.\u001b[0m\n"
          ]
        },
        {
          "output_type": "execute_result",
          "data": {
            "text/plain": [
              "'The wage_per_hour column has a correlation with the union (16.18%), education_yrs (38.19%), experience_yrs (8.71%), age (17.70%), female (-20.54%), marr (10.06%), south (-14.10%), manufacturing (5.39%), and construction (0.83%) columns.'"
            ],
            "application/vnd.google.colaboratory.intrinsic+json": {
              "type": "string"
            }
          },
          "metadata": {},
          "execution_count": 10
        }
      ]
    }
  ],
  "metadata": {
    "kernelspec": {
      "display_name": "env_twitter",
      "language": "python",
      "name": "env_twitter"
    },
    "language_info": {
      "codemirror_mode": {
        "name": "ipython",
        "version": 3
      },
      "file_extension": ".py",
      "mimetype": "text/x-python",
      "name": "python",
      "nbconvert_exporter": "python",
      "pygments_lexer": "ipython3",
      "version": "3.10.6"
    },
    "colab": {
      "provenance": [],
      "include_colab_link": true
    }
  },
  "nbformat": 4,
  "nbformat_minor": 0
}